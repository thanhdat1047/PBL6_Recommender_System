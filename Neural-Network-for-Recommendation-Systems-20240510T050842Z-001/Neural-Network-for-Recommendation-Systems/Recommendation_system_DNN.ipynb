{
  "cells": [
    {
      "cell_type": "code",
      "execution_count": 62,
      "metadata": {
        "id": "SCDWpDINBiz_"
      },
      "outputs": [
        {
          "name": "stderr",
          "output_type": "stream",
          "text": [
            "'grep' is not recognized as an internal or external command,\n",
            "operable program or batch file.\n"
          ]
        }
      ],
      "source": [
        "!pip freeze | grep tensorflow==2.6"
      ]
    },
    {
      "cell_type": "code",
      "execution_count": 17,
      "metadata": {
        "id": "oVfeq7iRpx3f"
      },
      "outputs": [],
      "source": [
        "from __future__ import print_function\n",
        "import numpy as np\n",
        "import pandas as pd\n",
        "import collections\n",
        "from mpl_toolkits.mplot3d import Axes3D\n",
        "from IPython import display\n",
        "from matplotlib import pyplot as plt\n",
        "import sklearn\n",
        "import sklearn.manifold\n",
        "import tensorflow.compat.v1 as tf\n",
        "tf.disable_v2_behavior()\n",
        "\n",
        "# Add some convenience functions to Pandas DataFrame.\n",
        "pd.options.display.max_rows = 10\n",
        "pd.options.display.float_format = '{:.3f}'.format\n",
        "def mask(df, key, function):\n",
        "  \"\"\"Returns a filtered dataframe, by applying function to key\"\"\"\n",
        "  return df[function(df[key])]\n",
        "\n",
        "def flatten_cols(df):\n",
        "  df.columns = [' '.join(col).strip() for col in df.columns.values]\n",
        "  return df\n",
        "\n",
        "pd.DataFrame.mask = mask\n",
        "pd.DataFrame.flatten_cols = flatten_cols"
      ]
    },
    {
      "cell_type": "code",
      "execution_count": 19,
      "metadata": {
        "colab": {
          "base_uri": "https://localhost:8080/"
        },
        "id": "mXJSVsKpp_kv",
        "outputId": "25d31473-f213-44c9-d684-d5ff146764e5"
      },
      "outputs": [
        {
          "data": {
            "text/plain": [
              "DataTransformerRegistry.enable('default')"
            ]
          },
          "execution_count": 19,
          "metadata": {},
          "output_type": "execute_result"
        }
      ],
      "source": [
        "#Let's install Altair for interactive visualizations\n",
        "# !pip install git+git://github.com/altair-viz/altair.git\n",
        "import altair as alt\n",
        "alt.data_transformers.enable('default', max_rows=None)"
      ]
    },
    {
      "cell_type": "code",
      "execution_count": 21,
      "metadata": {
        "id": "CWaf7EQMqaPY"
      },
      "outputs": [],
      "source": [
        "# Load each data set (users, ratings, and movies).\n",
        "users = pd.read_csv('777user.csv', encoding='latin-1')\n",
        "\n",
        "ratings = pd.read_csv('rating_777user.csv', encoding='latin-1')\n",
        "\n",
        "\n",
        "genre_cols = [\n",
        "    'Action', 'Adventure', 'Comedy', 'Contemporary Romance', 'Drama', 'Eastern Fantasy',\n",
        "    'Ecchi', 'Fantasy', 'Fantasy Romance', 'Gender Bender', 'Harem', 'Historical',\n",
        "    'Horror', 'Josei', 'Lolicon', 'Magical Realism', 'Martial Arts', 'Mecha', 'Mystery',\n",
        "    'Psychological', 'Romance', 'School Life', 'Sci-fi', 'Seinen', 'Shoujo', 'Shounen',\n",
        "    'Shounen Ai', 'Slice of Life', 'Smut', 'Sports', 'Supernatural', 'Tragedy', 'Video Games',\n",
        "    'Wuxia', 'Xianxia', 'Xuanhuan', 'Yaoi', 'Fan-Fiction', 'Urban', 'Virtual Reality', 'Faloo', 'Korean'\n",
        "    ]\n",
        "\n",
        "\n",
        "novels = pd.read_csv('clean_categories_matrix.csv',encoding='utf-8')\n",
        "# Since the ids start at 1, we shift them to start at 0. This will make handling of the\n",
        "# indices easier later\n",
        "users[\"user_id\"] = users[\"user_id\"].apply(lambda x: str(x-1))\n",
        "\n",
        "novels[\"novel_id\"] = novels[\"novel_id\"].apply(lambda x: str(x))\n",
        "novels[\"chapters\"] = novels[\"chapters\"].apply(lambda x: str(x))\n",
        "novels[\"status\"] = novels[\"status\"].apply(lambda x: str(x))\n",
        "\n",
        "ratings[\"novel_id\"] = ratings[\"novel_id\"].apply(lambda x: str(x))\n",
        "ratings[\"user_id\"] = ratings[\"user_id\"].apply(lambda x: str(x-1))\n",
        "ratings[\"rating\"] = ratings[\"rating\"].apply(lambda x: float(x))\n",
        "novels = novels.drop(columns=['author'])"
      ]
    },
    {
      "cell_type": "code",
      "execution_count": 46,
      "metadata": {},
      "outputs": [
        {
          "data": {
            "text/plain": [
              "(28116, 48)"
            ]
          },
          "execution_count": 46,
          "metadata": {},
          "output_type": "execute_result"
        }
      ],
      "source": [
        "novels.shape"
      ]
    },
    {
      "cell_type": "code",
      "execution_count": 23,
      "metadata": {
        "id": "fMU_IlATqkOi"
      },
      "outputs": [],
      "source": [
        "# Compute the number of movies to which a genre is assigned.\n",
        "genre_occurences = novels[genre_cols].sum().to_dict()\n",
        "\n",
        "# Since some movies can belong to more than one genre, we create different\n",
        "# 'genre' columns as follows:\n",
        "# - all_genres: all the active genres of the movie.\n",
        "# - genre: randomly sampled from the active genres.\n",
        "def mark_genres(novels, genres):\n",
        "  def get_random_genre(gs):\n",
        "    active = [genre for genre, g in zip(genres, gs) if g==1]\n",
        "    if len(active) == 0:\n",
        "      return 'Other'\n",
        "    return np.random.choice(active)\n",
        "  def get_all_genres(gs):\n",
        "    active = [genre for genre, g in zip(genres, gs) if g==1]\n",
        "    if len(active) == 0:\n",
        "      return 'Other'\n",
        "    return '-'.join(active)\n",
        "  novels['genre'] = [\n",
        "      get_random_genre(gs) for gs in zip(*[novels[genre] for genre in genres])]\n",
        "  novels['all_genres'] = [\n",
        "      get_all_genres(gs) for gs in zip(*[novels[genre] for genre in genres])]\n",
        "\n",
        "mark_genres(novels, genre_cols)\n",
        "\n",
        "# Create one merged DataFrame containing all the movielens data.\n",
        "novellens = ratings.merge(novels, on='novel_id').merge(users, on='user_id')"
      ]
    },
    {
      "cell_type": "code",
      "execution_count": 24,
      "metadata": {},
      "outputs": [
        {
          "data": {
            "text/html": [
              "<div>\n",
              "<style scoped>\n",
              "    .dataframe tbody tr th:only-of-type {\n",
              "        vertical-align: middle;\n",
              "    }\n",
              "\n",
              "    .dataframe tbody tr th {\n",
              "        vertical-align: top;\n",
              "    }\n",
              "\n",
              "    .dataframe thead th {\n",
              "        text-align: right;\n",
              "    }\n",
              "</style>\n",
              "<table border=\"1\" class=\"dataframe\">\n",
              "  <thead>\n",
              "    <tr style=\"text-align: right;\">\n",
              "      <th></th>\n",
              "      <th>user_id</th>\n",
              "      <th>novel_id</th>\n",
              "      <th>rating</th>\n",
              "      <th>title</th>\n",
              "      <th>chapters</th>\n",
              "      <th>status</th>\n",
              "      <th>Action</th>\n",
              "      <th>Adventure</th>\n",
              "      <th>Comedy</th>\n",
              "      <th>Contemporary Romance</th>\n",
              "      <th>...</th>\n",
              "      <th>Yaoi</th>\n",
              "      <th>Fan-Fiction</th>\n",
              "      <th>Urban</th>\n",
              "      <th>Virtual Reality</th>\n",
              "      <th>Faloo</th>\n",
              "      <th>Korean</th>\n",
              "      <th>genre</th>\n",
              "      <th>all_genres</th>\n",
              "      <th>sex</th>\n",
              "      <th>age</th>\n",
              "    </tr>\n",
              "  </thead>\n",
              "  <tbody>\n",
              "    <tr>\n",
              "      <th>0</th>\n",
              "      <td>505</td>\n",
              "      <td>308</td>\n",
              "      <td>10.000</td>\n",
              "      <td>The Female Partner Refuses To Be Cannon Fodder</td>\n",
              "      <td>3085</td>\n",
              "      <td>0.8571428571428571</td>\n",
              "      <td>0</td>\n",
              "      <td>0</td>\n",
              "      <td>0</td>\n",
              "      <td>0</td>\n",
              "      <td>...</td>\n",
              "      <td>0</td>\n",
              "      <td>0</td>\n",
              "      <td>0</td>\n",
              "      <td>0</td>\n",
              "      <td>0</td>\n",
              "      <td>0</td>\n",
              "      <td>Romance</td>\n",
              "      <td>Romance</td>\n",
              "      <td>0</td>\n",
              "      <td>25</td>\n",
              "    </tr>\n",
              "    <tr>\n",
              "      <th>1</th>\n",
              "      <td>505</td>\n",
              "      <td>27466</td>\n",
              "      <td>5.000</td>\n",
              "      <td>Mozun is Running Away From Marriage Every Day</td>\n",
              "      <td>No</td>\n",
              "      <td>0.1428571428571428</td>\n",
              "      <td>0</td>\n",
              "      <td>0</td>\n",
              "      <td>0</td>\n",
              "      <td>0</td>\n",
              "      <td>...</td>\n",
              "      <td>0</td>\n",
              "      <td>0</td>\n",
              "      <td>0</td>\n",
              "      <td>0</td>\n",
              "      <td>0</td>\n",
              "      <td>0</td>\n",
              "      <td>Xianxia</td>\n",
              "      <td>Shounen Ai-Xianxia</td>\n",
              "      <td>0</td>\n",
              "      <td>25</td>\n",
              "    </tr>\n",
              "    <tr>\n",
              "      <th>2</th>\n",
              "      <td>505</td>\n",
              "      <td>21360</td>\n",
              "      <td>9.000</td>\n",
              "      <td>People in Ke Xue: The beginning of living with...</td>\n",
              "      <td>088</td>\n",
              "      <td>0.8571428571428571</td>\n",
              "      <td>0</td>\n",
              "      <td>0</td>\n",
              "      <td>0</td>\n",
              "      <td>0</td>\n",
              "      <td>...</td>\n",
              "      <td>0</td>\n",
              "      <td>1</td>\n",
              "      <td>0</td>\n",
              "      <td>0</td>\n",
              "      <td>1</td>\n",
              "      <td>0</td>\n",
              "      <td>Fan-Fiction</td>\n",
              "      <td>Fan-Fiction-Faloo</td>\n",
              "      <td>0</td>\n",
              "      <td>25</td>\n",
              "    </tr>\n",
              "    <tr>\n",
              "      <th>3</th>\n",
              "      <td>505</td>\n",
              "      <td>1911</td>\n",
              "      <td>3.000</td>\n",
              "      <td>Villain: Heroine Sacrifice To Heaven At The Start</td>\n",
              "      <td>541</td>\n",
              "      <td>0.8571428571428571</td>\n",
              "      <td>0</td>\n",
              "      <td>0</td>\n",
              "      <td>0</td>\n",
              "      <td>0</td>\n",
              "      <td>...</td>\n",
              "      <td>0</td>\n",
              "      <td>0</td>\n",
              "      <td>1</td>\n",
              "      <td>0</td>\n",
              "      <td>0</td>\n",
              "      <td>0</td>\n",
              "      <td>Urban</td>\n",
              "      <td>Urban</td>\n",
              "      <td>0</td>\n",
              "      <td>25</td>\n",
              "    </tr>\n",
              "    <tr>\n",
              "      <th>4</th>\n",
              "      <td>505</td>\n",
              "      <td>2349</td>\n",
              "      <td>5.000</td>\n",
              "      <td>Myriad Realms Store Owner of Harry Potter</td>\n",
              "      <td>752</td>\n",
              "      <td>0.1428571428571428</td>\n",
              "      <td>1</td>\n",
              "      <td>1</td>\n",
              "      <td>0</td>\n",
              "      <td>0</td>\n",
              "      <td>...</td>\n",
              "      <td>0</td>\n",
              "      <td>0</td>\n",
              "      <td>0</td>\n",
              "      <td>0</td>\n",
              "      <td>0</td>\n",
              "      <td>0</td>\n",
              "      <td>Action</td>\n",
              "      <td>Action-Adventure-Fantasy-Xuanhuan</td>\n",
              "      <td>0</td>\n",
              "      <td>25</td>\n",
              "    </tr>\n",
              "  </tbody>\n",
              "</table>\n",
              "<p>5 rows × 52 columns</p>\n",
              "</div>"
            ],
            "text/plain": [
              "  user_id novel_id  rating                                              title  \\\n",
              "0     505      308  10.000     The Female Partner Refuses To Be Cannon Fodder   \n",
              "1     505    27466   5.000      Mozun is Running Away From Marriage Every Day   \n",
              "2     505    21360   9.000  People in Ke Xue: The beginning of living with...   \n",
              "3     505     1911   3.000  Villain: Heroine Sacrifice To Heaven At The Start   \n",
              "4     505     2349   5.000          Myriad Realms Store Owner of Harry Potter   \n",
              "\n",
              "  chapters              status  Action  Adventure  Comedy  \\\n",
              "0     3085  0.8571428571428571       0          0       0   \n",
              "1       No  0.1428571428571428       0          0       0   \n",
              "2      088  0.8571428571428571       0          0       0   \n",
              "3      541  0.8571428571428571       0          0       0   \n",
              "4      752  0.1428571428571428       1          1       0   \n",
              "\n",
              "   Contemporary Romance  ...  Yaoi  Fan-Fiction  Urban  Virtual Reality  \\\n",
              "0                     0  ...     0            0      0                0   \n",
              "1                     0  ...     0            0      0                0   \n",
              "2                     0  ...     0            1      0                0   \n",
              "3                     0  ...     0            0      1                0   \n",
              "4                     0  ...     0            0      0                0   \n",
              "\n",
              "   Faloo  Korean        genre                         all_genres  sex  age  \n",
              "0      0       0      Romance                            Romance    0   25  \n",
              "1      0       0      Xianxia                 Shounen Ai-Xianxia    0   25  \n",
              "2      1       0  Fan-Fiction                  Fan-Fiction-Faloo    0   25  \n",
              "3      0       0        Urban                              Urban    0   25  \n",
              "4      0       0       Action  Action-Adventure-Fantasy-Xuanhuan    0   25  \n",
              "\n",
              "[5 rows x 52 columns]"
            ]
          },
          "execution_count": 24,
          "metadata": {},
          "output_type": "execute_result"
        }
      ],
      "source": [
        "novellens.head()"
      ]
    },
    {
      "cell_type": "code",
      "execution_count": 25,
      "metadata": {
        "id": "GeiUwITxqmBr"
      },
      "outputs": [],
      "source": [
        "# Utility to split the data into training and test sets.\n",
        "\n",
        "def split_dataframe(df, holdout_fraction=0.1):\n",
        "  \"\"\"Splits a DataFrame into training and test sets.\n",
        "  Args:\n",
        "    df: a dataframe.\n",
        "    holdout_fraction: fraction of dataframe rows to use in the test set.\n",
        "  Returns:\n",
        "    train: dataframe for training\n",
        "    test: dataframe for testing\n",
        "  \"\"\"\n",
        "  test = df.sample(frac=holdout_fraction, replace=False)\n",
        "  train = df[~df.index.isin(test.index)]\n",
        "  return train, test"
      ]
    },
    {
      "cell_type": "code",
      "execution_count": 26,
      "metadata": {},
      "outputs": [
        {
          "data": {
            "text/html": [
              "<div>\n",
              "<style scoped>\n",
              "    .dataframe tbody tr th:only-of-type {\n",
              "        vertical-align: middle;\n",
              "    }\n",
              "\n",
              "    .dataframe tbody tr th {\n",
              "        vertical-align: top;\n",
              "    }\n",
              "\n",
              "    .dataframe thead th {\n",
              "        text-align: right;\n",
              "    }\n",
              "</style>\n",
              "<table border=\"1\" class=\"dataframe\">\n",
              "  <thead>\n",
              "    <tr style=\"text-align: right;\">\n",
              "      <th></th>\n",
              "      <th>user_id</th>\n",
              "      <th>novel_id</th>\n",
              "      <th>rating</th>\n",
              "    </tr>\n",
              "  </thead>\n",
              "  <tbody>\n",
              "    <tr>\n",
              "      <th>0</th>\n",
              "      <td>505</td>\n",
              "      <td>308</td>\n",
              "      <td>10.000</td>\n",
              "    </tr>\n",
              "    <tr>\n",
              "      <th>1</th>\n",
              "      <td>72</td>\n",
              "      <td>1719</td>\n",
              "      <td>4.000</td>\n",
              "    </tr>\n",
              "    <tr>\n",
              "      <th>2</th>\n",
              "      <td>522</td>\n",
              "      <td>5143</td>\n",
              "      <td>3.000</td>\n",
              "    </tr>\n",
              "    <tr>\n",
              "      <th>3</th>\n",
              "      <td>560</td>\n",
              "      <td>15075</td>\n",
              "      <td>7.000</td>\n",
              "    </tr>\n",
              "    <tr>\n",
              "      <th>4</th>\n",
              "      <td>191</td>\n",
              "      <td>20499</td>\n",
              "      <td>7.000</td>\n",
              "    </tr>\n",
              "    <tr>\n",
              "      <th>...</th>\n",
              "      <td>...</td>\n",
              "      <td>...</td>\n",
              "      <td>...</td>\n",
              "    </tr>\n",
              "    <tr>\n",
              "      <th>98556</th>\n",
              "      <td>650</td>\n",
              "      <td>4539</td>\n",
              "      <td>7.000</td>\n",
              "    </tr>\n",
              "    <tr>\n",
              "      <th>98557</th>\n",
              "      <td>649</td>\n",
              "      <td>8815</td>\n",
              "      <td>5.000</td>\n",
              "    </tr>\n",
              "    <tr>\n",
              "      <th>98558</th>\n",
              "      <td>653</td>\n",
              "      <td>4940</td>\n",
              "      <td>3.000</td>\n",
              "    </tr>\n",
              "    <tr>\n",
              "      <th>98559</th>\n",
              "      <td>125</td>\n",
              "      <td>15119</td>\n",
              "      <td>10.000</td>\n",
              "    </tr>\n",
              "    <tr>\n",
              "      <th>98560</th>\n",
              "      <td>597</td>\n",
              "      <td>632</td>\n",
              "      <td>7.000</td>\n",
              "    </tr>\n",
              "  </tbody>\n",
              "</table>\n",
              "<p>98561 rows × 3 columns</p>\n",
              "</div>"
            ],
            "text/plain": [
              "      user_id novel_id  rating\n",
              "0         505      308  10.000\n",
              "1          72     1719   4.000\n",
              "2         522     5143   3.000\n",
              "3         560    15075   7.000\n",
              "4         191    20499   7.000\n",
              "...       ...      ...     ...\n",
              "98556     650     4539   7.000\n",
              "98557     649     8815   5.000\n",
              "98558     653     4940   3.000\n",
              "98559     125    15119  10.000\n",
              "98560     597      632   7.000\n",
              "\n",
              "[98561 rows x 3 columns]"
            ]
          },
          "execution_count": 26,
          "metadata": {},
          "output_type": "execute_result"
        }
      ],
      "source": [
        "ratings"
      ]
    },
    {
      "cell_type": "code",
      "execution_count": null,
      "metadata": {},
      "outputs": [],
      "source": []
    },
    {
      "cell_type": "code",
      "execution_count": 27,
      "metadata": {
        "id": "qJgNfAsV1mBu"
      },
      "outputs": [],
      "source": [
        "novels_ratings = novels.merge(\n",
        "    ratings\n",
        "    .groupby('novel_id', as_index=False)\n",
        "    .agg({'rating': ['count', 'mean']})\n",
        "    .flatten_cols(),\n",
        "    on='novel_id')\n",
        "\n",
        "genre_filter = alt.selection_point(fields=['genre'])\n",
        "genre_chart = alt.Chart().mark_bar().encode(\n",
        "    x=\"count()\",\n",
        "    y=alt.Y('genre'),\n",
        "    color=alt.condition(\n",
        "        genre_filter,\n",
        "        alt.Color(\"genre:N\"),\n",
        "        alt.value('lightgray'))\n",
        ").properties(height=300, selection=genre_filter)"
      ]
    },
    {
      "cell_type": "code",
      "execution_count": 82,
      "metadata": {
        "colab": {
          "base_uri": "https://localhost:8080/",
          "height": 363
        },
        "id": "sGuWOVvX1oNG",
        "outputId": "e0a51ef2-16cd-40e9-f645-e8db52ea45ba"
      },
      "outputs": [
        {
          "name": "stdout",
          "output_type": "stream",
          "text": [
            "Numbers from 1 to 30000 not present in distinct_novel_ids:\n",
            "[20, 27, 44, 91, 126, 140, 141, 148, 168, 174, 241, 242, 266, 304, 313, 327, 341, 413, 429, 456, 459, 478, 482, 511, 560, 563, 589, 602, 609, 612, 620, 629, 667, 692, 694, 772, 806, 828, 872, 931, 979, 984, 1009, 1010, 1015, 1037, 1060, 1074, 1092, 1097, 1099, 1118, 1241, 1255, 1290, 1346, 1376, 1379, 1385, 1388, 1428, 1431, 1473, 1510, 1513, 1534, 1587, 1611, 1626, 1630, 1654, 1692, 1700, 1785, 1842, 1849, 1962, 1965, 2077, 2090, 2185, 2271, 2295, 2313, 2322, 2361, 2391, 2433, 2442, 2465, 2501, 2540, 2580, 2586, 2592, 2633, 2698, 2722, 2731, 2749, 2767, 2848, 2950, 3020, 3039, 3076, 3077, 3097, 3160, 3162, 3165, 3217, 3236, 3343, 3360, 3371, 3408, 3442, 3475, 3533, 3578, 3695, 3705, 3736, 3758, 3763, 3797, 3902, 3924, 3990, 4013, 4018, 4040, 4198, 4247, 4296, 4321, 4327, 4376, 4410, 4471, 4538, 4563, 4695, 4710, 4800, 4803, 4807, 4834, 4846, 4849, 4852, 4899, 4919, 4970, 4973, 5024, 5205, 5209, 5216, 5256, 5261, 5273, 5287, 5319, 5330, 5363, 5468, 5518, 5528, 5541, 5553, 5605, 5682, 5697, 5809, 5845, 5851, 5863, 5932, 5942, 6000, 6040, 6053, 6080, 6089, 6093, 6104, 6106, 6113, 6133, 6255, 6292, 6341, 6374, 6393, 6399, 6418, 6437, 6501, 6536, 6598, 6637, 6680, 6706, 6782, 6783, 6794, 6795, 6829, 6832, 6838, 6859, 6865, 6916, 6937, 7106, 7150, 7179, 7283, 7296, 7332, 7347, 7397, 7481, 7562, 7565, 7666, 7695, 7730, 7852, 7865, 7932, 7961, 8037, 8039, 8040, 8087, 8095, 8107, 8108, 8162, 8178, 8213, 8232, 8235, 8314, 8319, 8349, 8427, 8449, 8508, 8563, 8572, 8632, 8679, 8685, 8757, 8788, 8797, 8822, 8849, 8889, 8901, 8930, 8955, 9015, 9137, 9152, 9183, 9230, 9325, 9353, 9362, 9516, 9549, 9582, 9589, 9601, 9616, 9619, 9730, 9787, 9811, 9818, 9849, 9864, 9913, 9986, 10012, 10050, 10092, 10220, 10267, 10272, 10278, 10338, 10346, 10610, 10632, 10664, 10669, 10690, 10721, 10773, 10791, 10966, 10974, 11057, 11086, 11162, 11181, 11228, 11245, 11270, 11277, 11460, 11509, 11513, 11538, 11571, 11669, 11763, 11828, 11880, 11981, 11984, 12014, 12018, 12022, 12034, 12056, 12081, 12089, 12123, 12213, 12225, 12296, 12309, 12422, 12448, 12450, 12458, 12603, 12608, 12637, 12686, 12704, 12763, 12801, 12817, 12889, 12944, 13013, 13039, 13094, 13123, 13125, 13135, 13142, 13277, 13283, 13422, 13480, 13498, 13510, 13519, 13538, 13558, 13602, 13686, 13734, 13756, 13862, 13879, 13914, 13915, 14045, 14050, 14093, 14098, 14155, 14185, 14202, 14212, 14239, 14242, 14249, 14263, 14433, 14449, 14460, 14485, 14497, 14511, 14566, 14580, 14583, 14588, 14653, 14662, 14771, 14876, 14903, 15026, 15031, 15086, 15113, 15120, 15128, 15178, 15180, 15216, 15226, 15231, 15288, 15320, 15338, 15368, 15435, 15488, 15498, 15552, 15578, 15632, 15702, 15805, 15874, 15906, 15910, 15935, 16006, 16014, 16054, 16086, 16106, 16157, 16183, 16245, 16298, 16307, 16314, 16379, 16416, 16514, 16522, 16538, 16540, 16581, 16659, 16665, 16666, 16685, 16697, 16706, 16751, 16755, 16765, 16772, 16780, 16816, 16838, 16866, 16912, 16989, 17012, 17059, 17169, 17200, 17210, 17267, 17307, 17432, 17471, 17486, 17507, 17529, 17531, 17609, 17615, 17641, 17789, 17794, 17928, 17960, 17988, 18038, 18076, 18086, 18113, 18139, 18143, 18175, 18237, 18252, 18299, 18314, 18327, 18373, 18385, 18386, 18387, 18415, 18464, 18539, 18552, 18554, 18581, 18619, 18627, 18642, 18655, 18693, 18734, 18798, 18864, 18877, 18967, 19068, 19340, 19344, 19423, 19509, 19564, 19576, 19596, 19609, 19662, 19666, 19689, 19705, 19724, 19783, 19793, 19870, 19915, 19917, 19930, 19953, 19975, 20000, 20036, 20060, 20065, 20096, 20127, 20223, 20236, 20252, 20253, 20306, 20316, 20338, 20368, 20384, 20498, 20505, 20534, 20585, 20616, 20674, 20677, 20708, 20714, 20715, 20793, 20837, 20863, 20883, 20961, 20970, 20982, 20983, 21011, 21023, 21152, 21183, 21184, 21198, 21238, 21239, 21281, 21302, 21324, 21336, 21344, 21355, 21365, 21443, 21456, 21471, 21497, 21510, 21546, 21554, 21556, 21595, 21610, 21671, 21672, 21745, 21800, 21820, 21888, 21935, 21936, 21955, 21993, 21994, 22008, 22082, 22166, 22199, 22234, 22256, 22272, 22288, 22348, 22360, 22516, 22598, 22602, 22644, 22755, 22762, 22764, 22782, 22786, 22812, 22837, 22915, 22921, 22985, 22995, 22996, 23002, 23016, 23102, 23116, 23153, 23158, 23284, 23386, 23524, 23686, 23818, 23825, 23830, 23840, 23857, 23872, 23909, 23959, 23994, 24014, 24026, 24029, 24032, 24042, 24088, 24112, 24117, 24119, 24193, 24314, 24362, 24405, 24407, 24438, 24449, 24461, 24468, 24489, 24507, 24542, 24784, 24798, 24829, 24874, 24946, 24960, 24997, 25012, 25067, 25093, 25133, 25213, 25250, 25342, 25345, 25384, 25398, 25529, 25551, 25552, 25574, 25597, 25642, 25648, 25649, 25653, 25678, 25704, 25713, 25733, 25747, 25845, 25903, 25908, 25915, 25937, 25956, 26034, 26052, 26082, 26098, 26132, 26135, 26157, 26206, 26207, 26226, 26235, 26324, 26403, 26536, 26571, 26763, 26777, 26786, 26832, 26856, 26882, 26947, 27071, 27098, 27189, 27196, 27199, 27241, 27367, 27405, 27410, 27469, 27475, 27476, 27478, 27556, 27593, 27630, 27653, 27654, 27655, 27656, 27657, 27658, 27659, 27660, 27661, 27662, 27663, 27664, 27665, 27666, 27667, 27668, 27669, 27670, 27671, 27672, 27673, 27674, 27675, 27676, 27677, 27678, 27679, 27680, 27681, 27682, 27683, 27684, 27685, 27686, 27687, 27688, 27689, 27690, 27691, 27692, 27693, 27694, 27695, 27696, 27697, 27698, 27699, 27700, 27701, 27702, 27703, 27704, 27705, 27706, 27707, 27708, 27709, 27710, 27711, 27712, 27713, 27714, 27715, 27716, 27717, 27718, 27719, 27720, 27721, 27722, 27723, 27724, 27725, 27726, 27727, 27728, 27729, 27730, 27731, 27732, 27733, 27734, 27735, 27736, 27737, 27738, 27739, 27740, 27741, 27742, 27743, 27744, 27745, 27746, 27747, 27748, 27749, 27750, 27751, 27752, 27753, 27754, 27755, 27756, 27757, 27758, 27759, 27760, 27761, 27762, 27763, 27764, 27765, 27766, 27767, 27768, 27769, 27770, 27771, 27772, 27773, 27774, 27775, 27776, 27777, 27778, 27779, 27780, 27781, 27782, 27783, 27784, 27785, 27786, 27787, 27788, 27789, 27790, 27791, 27792, 27793, 27794, 27795, 27796, 27797, 27798, 27799, 27800, 27801, 27802, 27803, 27804, 27805, 27806, 27807, 27808, 27809, 27810, 27811, 27812, 27813, 27814, 27815, 27816, 27817, 27818, 27819, 27820, 27821, 27822, 27823, 27824, 27825, 27826, 27827, 27828, 27829, 27830, 27831, 27832, 27833, 27834, 27835, 27836, 27837, 27838, 27839, 27840, 27841, 27842, 27843, 27844, 27845, 27846, 27847, 27848, 27849, 27850, 27851, 27852, 27853, 27854, 27855, 27856, 27857, 27858, 27859, 27860, 27861, 27862, 27863, 27864, 27865, 27866, 27867, 27868, 27869, 27870, 27871, 27872, 27873, 27874, 27875, 27876, 27877, 27878, 27879, 27880, 27881, 27882, 27883, 27884, 27885, 27886, 27887, 27888, 27889, 27890, 27891, 27892, 27893, 27894, 27895, 27896, 27897, 27898, 27899, 27900, 27901, 27902, 27903, 27904, 27905, 27906, 27907, 27908, 27909, 27910, 27911, 27912, 27913, 27914, 27915, 27916, 27917, 27918, 27919, 27920, 27921, 27922, 27923, 27924, 27925, 27926, 27927, 27928, 27929, 27930, 27931, 27932, 27933, 27934, 27935, 27936, 27937, 27938, 27939, 27940, 27941, 27942, 27943, 27944, 27945, 27946, 27947, 27948, 27949, 27950, 27951, 27952, 27953, 27954, 27955, 27956, 27957, 27958, 27959, 27960, 27961, 27962, 27963, 27964, 27965, 27966, 27967, 27968, 27969, 27970, 27971, 27972, 27973, 27974, 27975, 27976, 27977, 27978, 27979, 27980, 27981, 27982, 27983, 27984, 27985, 27986, 27987, 27988, 27989, 27990, 27991, 27992, 27993, 27994, 27995, 27996, 27997, 27998, 27999, 28000, 28001, 28002, 28003, 28004, 28005, 28006, 28007, 28008, 28009, 28010, 28011, 28012, 28013, 28014, 28015, 28016, 28017, 28018, 28019, 28020, 28021, 28022, 28023, 28024, 28025, 28026, 28027, 28028, 28029, 28030, 28031, 28032, 28033, 28034, 28035, 28036, 28037, 28038, 28039, 28040, 28041, 28042, 28043, 28044, 28045, 28046, 28047, 28048, 28049, 28050, 28051, 28052, 28053, 28054, 28055, 28056, 28057, 28058, 28059, 28060, 28061, 28062, 28063, 28064, 28065, 28066, 28067, 28068, 28069, 28070, 28071, 28072, 28073, 28074, 28075, 28076, 28077, 28078, 28079, 28080, 28081, 28082, 28083, 28084, 28085, 28086, 28087, 28088, 28089, 28090, 28091, 28092, 28093, 28094, 28095, 28096, 28097, 28098, 28099, 28100, 28101, 28102, 28103, 28104, 28105, 28106, 28107, 28108, 28109, 28110, 28111, 28112, 28113, 28114, 28115]\n"
          ]
        }
      ],
      "source": [
        "full_rate_id = ratings['novel_id'].unique()\n",
        "\n",
        "novel_lens, d = novels.shape\n",
        "numbers = range(1, novel_lens)\n",
        "\n",
        "missing_numbers = [num for num in numbers if str(num) not in full_rate_id]\n",
        "if missing_numbers:\n",
        "    print(\"Numbers from 1 to 30000 not present in distinct_novel_ids:\")\n",
        "    print(missing_numbers)\n",
        "else:\n",
        "    print(\"All numbers from 1 to 30000 are present in distinct_novel_ids.\")"
      ]
    },
    {
      "cell_type": "code",
      "execution_count": 77,
      "metadata": {},
      "outputs": [
        {
          "data": {
            "text/plain": [
              "list"
            ]
          },
          "execution_count": 77,
          "metadata": {},
          "output_type": "execute_result"
        }
      ],
      "source": [
        "type(missing_numbers)"
      ]
    },
    {
      "cell_type": "code",
      "execution_count": 29,
      "metadata": {
        "colab": {
          "base_uri": "https://localhost:8080/",
          "height": 363
        },
        "id": "-zSvr0uX1qWD",
        "outputId": "5adf51de-ba76-4546-bba8-fdc08cb24799"
      },
      "outputs": [
        {
          "data": {
            "text/html": [
              "<div>\n",
              "<style scoped>\n",
              "    .dataframe tbody tr th:only-of-type {\n",
              "        vertical-align: middle;\n",
              "    }\n",
              "\n",
              "    .dataframe tbody tr th {\n",
              "        vertical-align: top;\n",
              "    }\n",
              "\n",
              "    .dataframe thead th {\n",
              "        text-align: right;\n",
              "    }\n",
              "</style>\n",
              "<table border=\"1\" class=\"dataframe\">\n",
              "  <thead>\n",
              "    <tr style=\"text-align: right;\">\n",
              "      <th></th>\n",
              "      <th>title</th>\n",
              "      <th>rating count</th>\n",
              "      <th>rating mean</th>\n",
              "    </tr>\n",
              "  </thead>\n",
              "  <tbody>\n",
              "    <tr>\n",
              "      <th>22753</th>\n",
              "      <td>Genshin Impact: I’m live streaming in Teyvat</td>\n",
              "      <td>11</td>\n",
              "      <td>8.364</td>\n",
              "    </tr>\n",
              "    <tr>\n",
              "      <th>6288</th>\n",
              "      <td>Tattoo Awakening: All Kinds of Divine Beasts C...</td>\n",
              "      <td>11</td>\n",
              "      <td>8.000</td>\n",
              "    </tr>\n",
              "    <tr>\n",
              "      <th>19447</th>\n",
              "      <td>Daqin: Incarnation without misery, summoning t...</td>\n",
              "      <td>11</td>\n",
              "      <td>8.000</td>\n",
              "    </tr>\n",
              "    <tr>\n",
              "      <th>17975</th>\n",
              "      <td>Tomb Raiders: the Red Girl at the Beginning Be...</td>\n",
              "      <td>12</td>\n",
              "      <td>8.000</td>\n",
              "    </tr>\n",
              "    <tr>\n",
              "      <th>26643</th>\n",
              "      <td>Entertainment: I am playing a hidden marriage ...</td>\n",
              "      <td>13</td>\n",
              "      <td>7.846</td>\n",
              "    </tr>\n",
              "    <tr>\n",
              "      <th>7673</th>\n",
              "      <td>Rebirth: from Supermarket to Perfectly Rich</td>\n",
              "      <td>12</td>\n",
              "      <td>7.750</td>\n",
              "    </tr>\n",
              "    <tr>\n",
              "      <th>14936</th>\n",
              "      <td>Mysterious Young Master, Super Cool</td>\n",
              "      <td>11</td>\n",
              "      <td>7.727</td>\n",
              "    </tr>\n",
              "    <tr>\n",
              "      <th>20210</th>\n",
              "      <td>Dead contract: Sign in for ten years, and you ...</td>\n",
              "      <td>11</td>\n",
              "      <td>7.727</td>\n",
              "    </tr>\n",
              "    <tr>\n",
              "      <th>7217</th>\n",
              "      <td>Hogwarts Please graduate soon</td>\n",
              "      <td>11</td>\n",
              "      <td>7.727</td>\n",
              "    </tr>\n",
              "    <tr>\n",
              "      <th>23752</th>\n",
              "      <td>Crispy college student? The whole internet exc...</td>\n",
              "      <td>12</td>\n",
              "      <td>7.500</td>\n",
              "    </tr>\n",
              "  </tbody>\n",
              "</table>\n",
              "</div>"
            ],
            "text/plain": [
              "                                                   title  rating count  \\\n",
              "22753       Genshin Impact: I’m live streaming in Teyvat            11   \n",
              "6288   Tattoo Awakening: All Kinds of Divine Beasts C...            11   \n",
              "19447  Daqin: Incarnation without misery, summoning t...            11   \n",
              "17975  Tomb Raiders: the Red Girl at the Beginning Be...            12   \n",
              "26643  Entertainment: I am playing a hidden marriage ...            13   \n",
              "7673         Rebirth: from Supermarket to Perfectly Rich            12   \n",
              "14936                Mysterious Young Master, Super Cool            11   \n",
              "20210  Dead contract: Sign in for ten years, and you ...            11   \n",
              "7217                       Hogwarts Please graduate soon            11   \n",
              "23752  Crispy college student? The whole internet exc...            12   \n",
              "\n",
              "       rating mean  \n",
              "22753        8.364  \n",
              "6288         8.000  \n",
              "19447        8.000  \n",
              "17975        8.000  \n",
              "26643        7.846  \n",
              "7673         7.750  \n",
              "14936        7.727  \n",
              "20210        7.727  \n",
              "7217         7.727  \n",
              "23752        7.500  "
            ]
          },
          "execution_count": 29,
          "metadata": {},
          "output_type": "execute_result"
        }
      ],
      "source": [
        "(novels_ratings[['title', 'rating count', 'rating mean']]\n",
        " .mask('rating count', lambda x: x > 10)\n",
        " .sort_values('rating mean', ascending=False)\n",
        " .head(10))"
      ]
    },
    {
      "cell_type": "code",
      "execution_count": 30,
      "metadata": {
        "id": "YKGQNuxrrAYD"
      },
      "outputs": [],
      "source": [
        "def build_rating_sparse_tensor(ratings_df):\n",
        "  \"\"\"\n",
        "  Args:\n",
        "    ratings_df: a pd.DataFrame with `user_id`, `movie_id` and `rating` columns.\n",
        "  Returns:\n",
        "    a tf.SparseTensor representing the ratings matrix.\n",
        "  \"\"\"\n",
        "  indices = ratings_df[['user_id', 'novel_id']].values\n",
        "  values = ratings_df['rating'].values\n",
        "  return tf.SparseTensor(\n",
        "      indices=indices,\n",
        "      values=values,\n",
        "      dense_shape=[users.shape[0], novels.shape[0]])"
      ]
    },
    {
      "cell_type": "code",
      "execution_count": 31,
      "metadata": {
        "id": "st0NzKi9quUZ"
      },
      "outputs": [],
      "source": [
        "def sparse_mean_square_error(sparse_ratings, user_embeddings, novel_embeddings):\n",
        "  \"\"\"\n",
        "  Args:\n",
        "    sparse_ratings: A SparseTensor rating matrix, of dense_shape [N, M]\n",
        "    user_embeddings: A dense Tensor U of shape [N, k] where k is the embedding\n",
        "      dimension, such that U_i is the embedding of user i.\n",
        "    movie_embeddings: A dense Tensor V of shape [M, k] where k is the embedding\n",
        "      dimension, such that V_j is the embedding of movie j.\n",
        "  Returns:\n",
        "    A scalar Tensor representing the MSE between the true ratings and the\n",
        "      model's predictions.\n",
        "  \"\"\"\n",
        "  predictions = tf.gather_nd(\n",
        "      tf.matmul(user_embeddings, novel_embeddings, transpose_b=True),\n",
        "      sparse_ratings.indices)\n",
        "  loss = tf.losses.mean_squared_error(sparse_ratings.values, predictions)\n",
        "  return loss"
      ]
    },
    {
      "cell_type": "code",
      "execution_count": 32,
      "metadata": {
        "id": "djWWxXQSswT6"
      },
      "outputs": [],
      "source": [
        "#Alternative Solution\n",
        "def sparse_mean_square_error(sparse_ratings, user_embeddings, novel_embeddings):\n",
        "  \"\"\"\n",
        "  Args:\n",
        "    sparse_ratings: A SparseTensor rating matrix, of dense_shape [N, M]\n",
        "    user_embeddings: A dense Tensor U of shape [N, k] where k is the embedding\n",
        "      dimension, such that U_i is the embedding of user i.\n",
        "    movie_embeddings: A dense Tensor V of shape [M, k] where k is the embedding\n",
        "      dimension, such that V_j is the embedding of movie j.\n",
        "  Returns:\n",
        "    A scalar Tensor representing the MSE between the true ratings and the\n",
        "      model's predictions.\n",
        "  \"\"\"\n",
        "  predictions = tf.reduce_sum(\n",
        "      tf.gather(user_embeddings, sparse_ratings.indices[:, 0]) *\n",
        "      tf.gather(novel_embeddings, sparse_ratings.indices[:, 1]),\n",
        "      axis=1)\n",
        "  loss = tf.losses.mean_squared_error(sparse_ratings.values, predictions)\n",
        "  return loss\n",
        "\n"
      ]
    },
    {
      "cell_type": "code",
      "execution_count": 33,
      "metadata": {
        "id": "bUh9FvdhuJM3"
      },
      "outputs": [
        {
          "name": "stdout",
          "output_type": "stream",
          "text": [
            "WARNING:tensorflow:From C:\\Users\\ntu96\\AppData\\Local\\Temp\\ipykernel_10936\\2381455635.py:23: The name tf.train.GradientDescentOptimizer is deprecated. Please use tf.compat.v1.train.GradientDescentOptimizer instead.\n",
            "\n"
          ]
        }
      ],
      "source": [
        "\n",
        "class CFModel(object):\n",
        "  def __init__(self, embedding_vars, loss, metrics=None):\n",
        "    self._embedding_vars = embedding_vars\n",
        "    self._loss = loss\n",
        "    self._metrics = metrics\n",
        "    self._embeddings = {k: None for k in embedding_vars}\n",
        "    self._session = None\n",
        "\n",
        "  @property\n",
        "  def embeddings(self):\n",
        "    return self._embeddings\n",
        "\n",
        "  def train(self, num_iterations=100, learning_rate=1.0, plot_results=True,\n",
        "            optimizer=tf.compat.v1.train.GradientDescentOptimizer):\n",
        "    \n",
        "    with self._loss.graph.as_default():\n",
        "      opt = optimizer(learning_rate)\n",
        "      train_op = opt.minimize(self._loss)\n",
        "      local_init_op = tf.group(\n",
        "          tf.variables_initializer(opt.variables()),\n",
        "          tf.local_variables_initializer())\n",
        "      if self._session is None:\n",
        "        self._session = tf.Session()\n",
        "        with self._session.as_default():\n",
        "          self._session.run(tf.global_variables_initializer())\n",
        "          self._session.run(tf.tables_initializer())\n",
        "          #tf.train.start_queue_runners()\n",
        "\n",
        "    with self._session.as_default():\n",
        "\n",
        "      local_init_op.run()\n",
        "\n",
        "      iterations = []\n",
        "      metrics = self._metrics or ({},)\n",
        "      metrics_vals = [collections.defaultdict(list) for _ in self._metrics]\n",
        "\n",
        "      # Train and append results.\n",
        "      for i in range(num_iterations + 1):\n",
        "\n",
        "        _, results = self._session.run((train_op, metrics))\n",
        "\n",
        "        if (i % 10 == 0) or i == num_iterations:\n",
        "          print(\"\\r iteration %d: \" % i + \", \".join(\n",
        "                [\"%s=%f\" % (k, v) for r in results for k, v in r.items()]),\n",
        "                end='')\n",
        "          iterations.append(i)\n",
        "          for metric_val, result in zip(metrics_vals, results):\n",
        "            for k, v in result.items():\n",
        "              metric_val[k].append(v)\n",
        "\n",
        "      for k, v in self._embedding_vars.items():\n",
        "        self._embeddings[k] = v.eval()\n",
        "\n",
        "      if plot_results:\n",
        "        # Plot the metrics.\n",
        "        num_subplots = len(metrics)+1\n",
        "        fig = plt.figure()\n",
        "        fig.set_size_inches(num_subplots*10, 8)\n",
        "        for i, metric_vals in enumerate(metrics_vals):\n",
        "          ax = fig.add_subplot(1, num_subplots, i+1)\n",
        "          for k, v in metric_vals.items():\n",
        "            ax.plot(iterations, v, label=k)\n",
        "          ax.set_xlim([1, num_iterations])\n",
        "          ax.legend()\n",
        "      return results"
      ]
    },
    {
      "cell_type": "code",
      "execution_count": 34,
      "metadata": {
        "id": "v-Kno1mEwirg"
      },
      "outputs": [],
      "source": [
        "def build_model(ratings, embedding_dim=3, init_stddev=1.):\n",
        "  train_ratings, test_ratings = split_dataframe(ratings)\n",
        "  # SparseTensor representation of the train and test datasets.\n",
        "  A_train = build_rating_sparse_tensor(train_ratings)\n",
        "  A_test = build_rating_sparse_tensor(test_ratings)\n",
        "  # Initialize the embeddings using a normal distribution.\n",
        "  U = tf.Variable(tf.random.normal(\n",
        "      [A_train.dense_shape[0], embedding_dim], stddev=init_stddev))\n",
        "  V = tf.Variable(tf.random.normal(\n",
        "      [A_train.dense_shape[1], embedding_dim], stddev=init_stddev))\n",
        "  train_loss = sparse_mean_square_error(A_train, U, V)\n",
        "  test_loss = sparse_mean_square_error(A_test, U, V)\n",
        "  metrics = {\n",
        "      'train_error': train_loss,\n",
        "      'test_error': test_loss\n",
        "  }\n",
        "  embeddings = {\n",
        "      \"user_id\": U,\n",
        "      \"novel_id\": V\n",
        "  }\n",
        "\n",
        "  return CFModel(embeddings, train_loss, [metrics])"
      ]
    },
    {
      "cell_type": "code",
      "execution_count": 35,
      "metadata": {
        "id": "j4dc7bsFwsee"
      },
      "outputs": [
        {
          "name": "stdout",
          "output_type": "stream",
          "text": [
            "WARNING:tensorflow:From C:\\Users\\ntu96\\AppData\\Local\\Temp\\ipykernel_10936\\1685273278.py:18: The name tf.losses.mean_squared_error is deprecated. Please use tf.compat.v1.losses.mean_squared_error instead.\n",
            "\n"
          ]
        }
      ],
      "source": [
        "\n",
        "model = build_model(novellens, embedding_dim=30, init_stddev=0.5)"
      ]
    },
    {
      "cell_type": "code",
      "execution_count": 36,
      "metadata": {
        "colab": {
          "base_uri": "https://localhost:8080/",
          "height": 500
        },
        "id": "xt1sM63lw3P-",
        "outputId": "774e7a55-bf38-4ff4-bce2-0a26e64e41ea"
      },
      "outputs": [
        {
          "name": "stdout",
          "output_type": "stream",
          "text": [
            " iteration 180: train_error=2.190535, test_error=65.6050261"
          ]
        },
        {
          "name": "stdout",
          "output_type": "stream",
          "text": [
            " iteration 1000: train_error=0.011721, test_error=67.461098"
          ]
        },
        {
          "data": {
            "text/plain": [
              "[{'train_error': 0.011720629, 'test_error': 67.4611}]"
            ]
          },
          "execution_count": 36,
          "metadata": {},
          "output_type": "execute_result"
        },
        {
          "data": {
            "image/png": "[encoded data removed]",
            "text/plain": [
              "<Figure size 2000x800 with 1 Axes>"
            ]
          },
          "metadata": {},
          "output_type": "display_data"
        }
      ],
      "source": [
        "model.train(num_iterations=1000, learning_rate=10.)"
      ]
    },
    {
      "cell_type": "code",
      "execution_count": 37,
      "metadata": {
        "id": "_UqLcjNmzCSE"
      },
      "outputs": [],
      "source": [
        "DOT = 'dot'\n",
        "COSINE = 'cosine'\n",
        "def compute_scores(query_embedding, item_embeddings, measure=DOT):\n",
        "  u = query_embedding\n",
        "  V = item_embeddings\n",
        "  if measure == COSINE:\n",
        "    V = V / np.linalg.norm(V, axis=1, keepdims=True)\n",
        "    u = u / np.linalg.norm(u)\n",
        "  scores = u.dot(V.T)\n",
        "  return scores"
      ]
    },
    {
      "cell_type": "code",
      "execution_count": 109,
      "metadata": {
        "id": "VuoDTeWczO3m"
      },
      "outputs": [],
      "source": [
        "\n",
        "def user_recommendations(model, user_id, measure=DOT, exclude_rated=False, k=6, USER_RATINGS= None):\n",
        "  \n",
        "  scores = compute_scores(model.embeddings[\"user_id\"][user_id], model.embeddings[\"novel_id\"], measure)\n",
        "  score_key = measure + ' score'\n",
        "  df = pd.DataFrame({\n",
        "      'novel_id': novels['novel_id'],\n",
        "      score_key: list(scores),\n",
        "      'titles': novels['title'],\n",
        "      'genres': novels['all_genres']\n",
        "  })\n",
        "  if exclude_rated:\n",
        "    # remove movies that are already rated\n",
        "    rated_novels = ratings[ratings.user_id == user_id][\"novel_id\"].values\n",
        "    df = df[df.novel_id.apply(lambda novel_id: novel_id not in rated_novels)]\n",
        "  display.display(df.sort_values([score_key], ascending=False).head(k))  \n",
        "\n",
        "def novel_neighbors(model, title_substring, measure=DOT, k=6):\n",
        "  # Search for movie ids that match the given substring.\n",
        "  ids =  novels[novels['title'].str.contains(title_substring)].index.values\n",
        "  titles = novels.iloc[ids]['title'].values\n",
        "  if len(titles) == 0:\n",
        "    raise ValueError(\"Found no novel with title %s\" % title_substring)\n",
        "  print(\"Nearest neighbors of : %s.\" % titles[0])\n",
        "  if len(titles) > 1:\n",
        "    print(\"[Found more than one matching nove. Other candidates: {}]\".format(\n",
        "        \", \".join(titles[1:])))\n",
        "  novel_id = ids[0]\n",
        "  scores = compute_scores(\n",
        "      model.embeddings[\"novel_id\"][novel_id], model.embeddings[\"novel_id\"],\n",
        "      measure)\n",
        "  score_key = measure + ' score'\n",
        "  df = pd.DataFrame({\n",
        "      'novel_id': novels['novel_id'],\n",
        "      score_key: list(scores),\n",
        "      'titles': novels['title'],\n",
        "      'genres': novels['all_genres']\n",
        "  })\n",
        "  tf = df.loc[df['novel_id'] == '9']\n",
        "  print(tf)\n",
        "  display.display(df.sort_values([score_key], ascending=False).head(k))"
      ]
    },
    {
      "cell_type": "code",
      "execution_count": null,
      "metadata": {},
      "outputs": [],
      "source": []
    },
    {
      "cell_type": "code",
      "execution_count": 110,
      "metadata": {
        "colab": {
          "base_uri": "https://localhost:8080/",
          "height": 527
        },
        "id": "KpiKyE4tzgIQ",
        "outputId": "2d77fc9a-5f04-4edf-ea8a-a734124e96a8"
      },
      "outputs": [
        {
          "name": "stdout",
          "output_type": "stream",
          "text": [
            "Nearest neighbors of : Madam’s Identities Shocks the Entire City Again.\n",
            "  novel_id  dot score                  titles            genres\n",
            "8        9      1.878  Permanent Martial Arts  Fantasy-Xuanhuan\n"
          ]
        },
        {
          "data": {
            "text/html": [
              "<div>\n",
              "<style scoped>\n",
              "    .dataframe tbody tr th:only-of-type {\n",
              "        vertical-align: middle;\n",
              "    }\n",
              "\n",
              "    .dataframe tbody tr th {\n",
              "        vertical-align: top;\n",
              "    }\n",
              "\n",
              "    .dataframe thead th {\n",
              "        text-align: right;\n",
              "    }\n",
              "</style>\n",
              "<table border=\"1\" class=\"dataframe\">\n",
              "  <thead>\n",
              "    <tr style=\"text-align: right;\">\n",
              "      <th></th>\n",
              "      <th>novel_id</th>\n",
              "      <th>dot score</th>\n",
              "      <th>titles</th>\n",
              "      <th>genres</th>\n",
              "    </tr>\n",
              "  </thead>\n",
              "  <tbody>\n",
              "    <tr>\n",
              "      <th>0</th>\n",
              "      <td>1</td>\n",
              "      <td>7.693</td>\n",
              "      <td>Madam’s Identities Shocks the Entire City Again</td>\n",
              "      <td>Drama-Romance</td>\n",
              "    </tr>\n",
              "    <tr>\n",
              "      <th>21569</th>\n",
              "      <td>21570</td>\n",
              "      <td>5.548</td>\n",
              "      <td>In the apocalypse of the book, the ship girl a...</td>\n",
              "      <td>Fan-Fiction</td>\n",
              "    </tr>\n",
              "    <tr>\n",
              "      <th>13439</th>\n",
              "      <td>13440</td>\n",
              "      <td>5.487</td>\n",
              "      <td>Fantasy: Start with three thousand holy realms...</td>\n",
              "      <td>Fantasy Romance</td>\n",
              "    </tr>\n",
              "    <tr>\n",
              "      <th>19356</th>\n",
              "      <td>19357</td>\n",
              "      <td>5.469</td>\n",
              "      <td>A man wrote a biography while sailing, which s...</td>\n",
              "      <td>Fan-Fiction-Faloo</td>\n",
              "    </tr>\n",
              "    <tr>\n",
              "      <th>21031</th>\n",
              "      <td>21032</td>\n",
              "      <td>5.297</td>\n",
              "      <td>Taking stock of the ten major catastrophes for...</td>\n",
              "      <td>Fan-Fiction-Faloo</td>\n",
              "    </tr>\n",
              "    <tr>\n",
              "      <th>...</th>\n",
              "      <td>...</td>\n",
              "      <td>...</td>\n",
              "      <td>...</td>\n",
              "      <td>...</td>\n",
              "    </tr>\n",
              "    <tr>\n",
              "      <th>16392</th>\n",
              "      <td>16393</td>\n",
              "      <td>4.876</td>\n",
              "      <td>Navigation: Kizaru, my brother, becomes strong...</td>\n",
              "      <td>Fan-Fiction-Faloo</td>\n",
              "    </tr>\n",
              "    <tr>\n",
              "      <th>4184</th>\n",
              "      <td>4185</td>\n",
              "      <td>4.869</td>\n",
              "      <td>A Simulation Game of the Heavens Starting From...</td>\n",
              "      <td>Fan-Fiction</td>\n",
              "    </tr>\n",
              "    <tr>\n",
              "      <th>17386</th>\n",
              "      <td>17387</td>\n",
              "      <td>4.820</td>\n",
              "      <td>Three Kingdoms: Eight hundred snow dragons rid...</td>\n",
              "      <td>Fan-Fiction</td>\n",
              "    </tr>\n",
              "    <tr>\n",
              "      <th>3802</th>\n",
              "      <td>3803</td>\n",
              "      <td>4.811</td>\n",
              "      <td>Rebirth Of A Noble Daughter: The Marquis Manor...</td>\n",
              "      <td>Historical-Josei-Psychological-Romance</td>\n",
              "    </tr>\n",
              "    <tr>\n",
              "      <th>17177</th>\n",
              "      <td>17178</td>\n",
              "      <td>4.775</td>\n",
              "      <td>I’m So Scared</td>\n",
              "      <td>Action-Adventure-Comedy-Fantasy-Horror-Mystery...</td>\n",
              "    </tr>\n",
              "  </tbody>\n",
              "</table>\n",
              "<p>20 rows × 4 columns</p>\n",
              "</div>"
            ],
            "text/plain": [
              "      novel_id  dot score                                             titles  \\\n",
              "0            1      7.693    Madam’s Identities Shocks the Entire City Again   \n",
              "21569    21570      5.548  In the apocalypse of the book, the ship girl a...   \n",
              "13439    13440      5.487  Fantasy: Start with three thousand holy realms...   \n",
              "19356    19357      5.469  A man wrote a biography while sailing, which s...   \n",
              "21031    21032      5.297  Taking stock of the ten major catastrophes for...   \n",
              "...        ...        ...                                                ...   \n",
              "16392    16393      4.876  Navigation: Kizaru, my brother, becomes strong...   \n",
              "4184      4185      4.869  A Simulation Game of the Heavens Starting From...   \n",
              "17386    17387      4.820  Three Kingdoms: Eight hundred snow dragons rid...   \n",
              "3802      3803      4.811  Rebirth Of A Noble Daughter: The Marquis Manor...   \n",
              "17177    17178      4.775                                      I’m So Scared   \n",
              "\n",
              "                                                  genres  \n",
              "0                                          Drama-Romance  \n",
              "21569                                        Fan-Fiction  \n",
              "13439                                    Fantasy Romance  \n",
              "19356                                  Fan-Fiction-Faloo  \n",
              "21031                                  Fan-Fiction-Faloo  \n",
              "...                                                  ...  \n",
              "16392                                  Fan-Fiction-Faloo  \n",
              "4184                                         Fan-Fiction  \n",
              "17386                                        Fan-Fiction  \n",
              "3802              Historical-Josei-Psychological-Romance  \n",
              "17177  Action-Adventure-Comedy-Fantasy-Horror-Mystery...  \n",
              "\n",
              "[20 rows x 4 columns]"
            ]
          },
          "metadata": {},
          "output_type": "display_data"
        }
      ],
      "source": [
        "novel_neighbors(model, \"Madam’s Identities Shocks the Entire City Again\", DOT, 20)\n",
        "\n"
      ]
    },
    {
      "cell_type": "markdown",
      "metadata": {
        "id": "FSnDJ22w3mIj"
      },
      "source": [
        "##***Softmax model***\n"
      ]
    },
    {
      "cell_type": "code",
      "execution_count": 40,
      "metadata": {
        "colab": {
          "base_uri": "https://localhost:8080/",
          "height": 206
        },
        "id": "aJYwp_qf3_5J",
        "outputId": "170870e1-7010-40c6-bd43-3755c31153b0"
      },
      "outputs": [
        {
          "data": {
            "text/html": [
              "<div>\n",
              "<style scoped>\n",
              "    .dataframe tbody tr th:only-of-type {\n",
              "        vertical-align: middle;\n",
              "    }\n",
              "\n",
              "    .dataframe tbody tr th {\n",
              "        vertical-align: top;\n",
              "    }\n",
              "\n",
              "    .dataframe thead th {\n",
              "        text-align: right;\n",
              "    }\n",
              "</style>\n",
              "<table border=\"1\" class=\"dataframe\">\n",
              "  <thead>\n",
              "    <tr style=\"text-align: right;\">\n",
              "      <th></th>\n",
              "      <th>user_id</th>\n",
              "      <th>novel_id</th>\n",
              "    </tr>\n",
              "  </thead>\n",
              "  <tbody>\n",
              "    <tr>\n",
              "      <th>0</th>\n",
              "      <td>0</td>\n",
              "      <td>[15516, 5559, 8324, 7738, 20068, 27068, 19251,...</td>\n",
              "    </tr>\n",
              "    <tr>\n",
              "      <th>1</th>\n",
              "      <td>1</td>\n",
              "      <td>[12569, 556, 22718, 18969, 24018, 18336, 12640...</td>\n",
              "    </tr>\n",
              "    <tr>\n",
              "      <th>2</th>\n",
              "      <td>10</td>\n",
              "      <td>[13764, 16861, 14808, 24860, 12, 7450, 3682, 4...</td>\n",
              "    </tr>\n",
              "    <tr>\n",
              "      <th>3</th>\n",
              "      <td>100</td>\n",
              "      <td>[5447, 26935, 13143, 17314, 26291, 24118, 2408...</td>\n",
              "    </tr>\n",
              "    <tr>\n",
              "      <th>4</th>\n",
              "      <td>101</td>\n",
              "      <td>[2269, 25114, 8793, 243, 18717, 10221, 15739, ...</td>\n",
              "    </tr>\n",
              "  </tbody>\n",
              "</table>\n",
              "</div>"
            ],
            "text/plain": [
              "  user_id                                           novel_id\n",
              "0       0  [15516, 5559, 8324, 7738, 20068, 27068, 19251,...\n",
              "1       1  [12569, 556, 22718, 18969, 24018, 18336, 12640...\n",
              "2      10  [13764, 16861, 14808, 24860, 12, 7450, 3682, 4...\n",
              "3     100  [5447, 26935, 13143, 17314, 26291, 24118, 2408...\n",
              "4     101  [2269, 25114, 8793, 243, 18717, 10221, 15739, ..."
            ]
          },
          "execution_count": 40,
          "metadata": {},
          "output_type": "execute_result"
        }
      ],
      "source": [
        "rated_novels = (ratings[[\"user_id\", \"novel_id\"]]\n",
        "                .groupby(\"user_id\", as_index=False)\n",
        "                .aggregate(lambda x: list(x)))\n",
        "rated_novels.head()"
      ]
    },
    {
      "cell_type": "code",
      "execution_count": 41,
      "metadata": {
        "id": "ypqQV5b24bWF"
      },
      "outputs": [],
      "source": [
        "#batch generation code\n",
        "\n",
        "genres_dict = {\n",
        "    novel: genres.split('-')\n",
        "    for novel, genres in zip(novels[\"novel_id\"], novels[\"all_genres\"])\n",
        "}\n",
        "\n",
        "def make_batch(ratings, batch_size):\n",
        "  \"\"\"Creates a batch of examples.\n",
        "  Args:\n",
        "    ratings: A DataFrame of ratings such that examples[\"movie_id\"] is a list of\n",
        "      movies rated by a user.\n",
        "    batch_size: The batch size.\n",
        "  \"\"\"\n",
        "  def pad(x, fill):\n",
        "    return pd.DataFrame.from_dict(x).fillna(fill).values\n",
        "\n",
        "  novel = []\n",
        "  genre = []\n",
        "  label = []\n",
        "  for novel_ids in ratings[\"novel_id\"].values:\n",
        "    novel.append(novel_ids)\n",
        "    genre.append([x for novel_id in novel_ids for x in genres_dict[novel_id]])\n",
        "    label.append([int(novel_id) for novel_id in novel_ids])\n",
        "  features = {\n",
        "      \"novel_id\": pad(novel, \"\"),\n",
        "      \"genre\": pad(genre, \"\"),\n",
        "      \"label\": pad(label, -1)\n",
        "  }\n",
        "  print(label)\n",
        "  batch = (\n",
        "      tf.data.Dataset.from_tensor_slices(features)\n",
        "      .shuffle(1000)\n",
        "      .repeat()\n",
        "      .batch(batch_size)\n",
        "      .make_one_shot_iterator()\n",
        "      .get_next())\n",
        "  return batch\n",
        "\n",
        "def select_random(x):\n",
        "  \"\"\"Selectes a random elements from each row of x.\"\"\"\n",
        "  def to_float(x):\n",
        "    return tf.cast(x, tf.float32)\n",
        "  def to_int(x):\n",
        "    return tf.cast(x, tf.int64)\n",
        "  batch_size = tf.shape(x)[0]\n",
        "  rn = tf.range(batch_size)\n",
        "  nnz = to_float(tf.count_nonzero(x >= 0, axis=1))\n",
        "  rnd = tf.random_uniform([batch_size])\n",
        "  ids = tf.stack([to_int(rn), to_int(nnz * rnd)], axis=1)\n",
        "  return to_int(tf.gather_nd(x, ids))\n"
      ]
    },
    {
      "cell_type": "code",
      "execution_count": 42,
      "metadata": {
        "id": "yBfkTrR96PD4"
      },
      "outputs": [],
      "source": [
        "\n",
        "def softmax_loss(user_embeddings, novel_embeddings, labels):\n",
        "  \"\"\"Returns the cross-entropy loss of the softmax model.\n",
        "  Args:\n",
        "    user_embeddings: A tensor of shape [batch_size, embedding_dim].\n",
        "    movie_embeddings: A tensor of shape [num_movies, embedding_dim].\n",
        "    labels: A tensor of [batch_size], such that labels[i] is the target label\n",
        "      for example i.\n",
        "  Returns:\n",
        "    The mean cross-entropy loss.\n",
        "  \"\"\"\n",
        "  # Verify that the embddings have compatible dimensions\n",
        "  user_emb_dim = user_embeddings.shape[1].value\n",
        "  novel_emb_dim = novel_embeddings.shape[1].value\n",
        "  if user_emb_dim != novel_emb_dim:\n",
        "    raise ValueError(\n",
        "        \"The user embedding dimension %d should match the novel embedding \"\n",
        "        \"dimension % d\" % (user_emb_dim, novel_emb_dim))\n",
        "\n",
        "  logits = tf.matmul(user_embeddings, novel_embeddings, transpose_b=True)\n",
        "  loss = tf.reduce_mean(tf.nn.sparse_softmax_cross_entropy_with_logits(\n",
        "      logits=logits, labels=labels))\n",
        "  return loss"
      ]
    },
    {
      "cell_type": "code",
      "execution_count": 43,
      "metadata": {
        "id": "qDR0PPZg7gj4"
      },
      "outputs": [],
      "source": [
        "def build_softmax_model(rated_novels, embedding_cols, hidden_dims):\n",
        "  def create_network(features):\n",
        "    inputs = tf.feature_column.input_layer(features, embedding_cols)\n",
        "    # Hidden layers.\n",
        "    input_dim = inputs.shape[1].value\n",
        "    for i, output_dim in enumerate(hidden_dims):\n",
        "      w = tf.get_variable(\n",
        "          \"hidden%d_w_\" % i, shape=[input_dim, output_dim],\n",
        "          initializer=tf.truncated_normal_initializer(\n",
        "              stddev=1./np.sqrt(output_dim))) / 10.\n",
        "      outputs = tf.matmul(inputs, w)\n",
        "      input_dim = output_dim\n",
        "      inputs = outputs\n",
        "    return outputs\n",
        "\n",
        "  train_rated_novels, test_rated_novels = split_dataframe(rated_novels)\n",
        "  train_batch = make_batch(train_rated_novels, 200)\n",
        "  test_batch = make_batch(test_rated_novels, 100)\n",
        "\n",
        "  with tf.variable_scope(\"model\", reuse=False):\n",
        "    # Train\n",
        "    train_user_embeddings = create_network(train_batch)\n",
        "    train_labels = select_random(train_batch[\"label\"])\n",
        "  with tf.variable_scope(\"model\", reuse=True):\n",
        "    # Test\n",
        "    test_user_embeddings = create_network(test_batch)\n",
        "    test_labels = select_random(test_batch[\"label\"])\n",
        "    novel_embeddings = tf.get_variable(\n",
        "        \"input_layer/novel_id_embedding/embedding_weights\")\n",
        "\n",
        "  test_loss = softmax_loss(\n",
        "      test_user_embeddings, novel_embeddings, test_labels)\n",
        "  train_loss = softmax_loss(\n",
        "      train_user_embeddings, novel_embeddings, train_labels)\n",
        "  _, test_precision_at_10 = tf.metrics.precision_at_k(\n",
        "      labels=test_labels,\n",
        "      predictions=tf.matmul(test_user_embeddings, novel_embeddings, transpose_b=True),\n",
        "      k=10)\n",
        "\n",
        "  metrics = (\n",
        "      {\"train_loss\": train_loss, \"test_loss\": test_loss},\n",
        "      {\"test_precision_at_10\": test_precision_at_10}\n",
        "  )\n",
        "  embeddings = {\"novel_id\": novel_embeddings}\n",
        "  return CFModel(embeddings, train_loss, metrics)"
      ]
    },
    {
      "cell_type": "code",
      "execution_count": 44,
      "metadata": {
        "colab": {
          "base_uri": "https://localhost:8080/",
          "height": 902
        },
        "id": "PMZDcuLv8kD6",
        "outputId": "f2907aeb-f40b-4951-d8eb-85a2cdd4e1cb"
      },
      "outputs": [
        {
          "name": "stdout",
          "output_type": "stream",
          "text": [
            "WARNING:tensorflow:From C:\\Users\\ntu96\\AppData\\Local\\Temp\\ipykernel_10936\\2492876093.py:3: categorical_column_with_vocabulary_list (from tensorflow.python.feature_column.feature_column_v2) is deprecated and will be removed in a future version.\n",
            "Instructions for updating:\n",
            "Use Keras preprocessing layers instead, either directly or via the `tf.keras.utils.FeatureSpace` utility. Each of `tf.feature_column.*` has a functional equivalent in `tf.keras.layers` for feature preprocessing when training a Keras model.\n",
            "WARNING:tensorflow:From C:\\Users\\ntu96\\AppData\\Local\\Temp\\ipykernel_10936\\2492876093.py:5: embedding_column (from tensorflow.python.feature_column.feature_column_v2) is deprecated and will be removed in a future version.\n",
            "Instructions for updating:\n",
            "Use Keras preprocessing layers instead, either directly or via the `tf.keras.utils.FeatureSpace` utility. Each of `tf.feature_column.*` has a functional equivalent in `tf.keras.layers` for feature preprocessing when training a Keras model.\n"
          ]
        },
        {
          "name": "stdout",
          "output_type": "stream",
          "text": [
            "WARNING:tensorflow:From C:\\Users\\ntu96\\AppData\\Local\\Temp\\ipykernel_10936\\4291949383.py:35: DatasetV1.make_one_shot_iterator (from tensorflow.python.data.ops.dataset_ops) is deprecated and will be removed in a future version.\n",
            "Instructions for updating:\n",
            "This is a deprecated API that should only be used in TF 1 graph mode and legacy TF 2 graph mode available through `tf.compat.v1`. In all other situations -- namely, eager mode and inside `tf.function` -- you can consume dataset elements using `for elem in dataset: ...` or by explicitly creating iterator via `iterator = iter(dataset)` and fetching its elements via `values = next(iterator)`. Furthermore, this API is not available in TF 2. During the transition from TF 1 to TF 2 you can use `tf.compat.v1.data.make_one_shot_iterator(dataset)` to create a TF 1 graph mode style iterator for a dataset created through TF 2 APIs. Note that this should be a transient state of your code base as there are in general no guarantees about the interoperability of TF 1 and TF 2 code.\n",
            "WARNING:tensorflow:From C:\\Users\\ntu96\\AppData\\Local\\Temp\\ipykernel_10936\\688314556.py:20: input_layer (from tensorflow.python.feature_column.feature_column) is deprecated and will be removed in a future version.\n",
            "Instructions for updating:\n",
            "Use Keras preprocessing layers instead, either directly or via the `tf.keras.utils.FeatureSpace` utility. Each of `tf.feature_column.*` has a functional equivalent in `tf.keras.layers` for feature preprocessing when training a Keras model.\n",
            "WARNING:tensorflow:From c:\\Users\\ntu96\\AppData\\Local\\Programs\\Python\\Python311\\Lib\\site-packages\\tensorflow\\python\\feature_column\\feature_column.py:114: EmbeddingColumn._get_dense_tensor (from tensorflow.python.feature_column.feature_column_v2) is deprecated and will be removed in a future version.\n",
            "Instructions for updating:\n",
            "The old _FeatureColumn APIs are being deprecated. Please use the new FeatureColumn APIs instead.\n",
            "WARNING:tensorflow:From c:\\Users\\ntu96\\AppData\\Local\\Programs\\Python\\Python311\\Lib\\site-packages\\tensorflow\\python\\feature_column\\feature_column_v2.py:2680: VocabularyListCategoricalColumn._get_sparse_tensors (from tensorflow.python.feature_column.feature_column_v2) is deprecated and will be removed in a future version.\n",
            "Instructions for updating:\n",
            "The old _FeatureColumn APIs are being deprecated. Please use the new FeatureColumn APIs instead.\n",
            "WARNING:tensorflow:From c:\\Users\\ntu96\\AppData\\Local\\Programs\\Python\\Python311\\Lib\\site-packages\\tensorflow\\python\\feature_column\\feature_column.py:2076: VocabularyListCategoricalColumn._transform_feature (from tensorflow.python.feature_column.feature_column_v2) is deprecated and will be removed in a future version.\n",
            "Instructions for updating:\n",
            "The old _FeatureColumn APIs are being deprecated. Please use the new FeatureColumn APIs instead.\n",
            "WARNING:tensorflow:From c:\\Users\\ntu96\\AppData\\Local\\Programs\\Python\\Python311\\Lib\\site-packages\\tensorflow\\python\\feature_column\\feature_column_v2.py:2621: VocabularyListCategoricalColumn._num_buckets (from tensorflow.python.feature_column.feature_column_v2) is deprecated and will be removed in a future version.\n",
            "Instructions for updating:\n",
            "The old _FeatureColumn APIs are being deprecated. Please use the new FeatureColumn APIs instead.\n",
            "WARNING:tensorflow:From c:\\Users\\ntu96\\AppData\\Local\\Programs\\Python\\Python311\\Lib\\site-packages\\tensorflow\\python\\feature_column\\feature_column.py:118: EmbeddingColumn._variable_shape (from tensorflow.python.feature_column.feature_column_v2) is deprecated and will be removed in a future version.\n",
            "Instructions for updating:\n",
            "The old _FeatureColumn APIs are being deprecated. Please use the new FeatureColumn APIs instead.\n",
            "WARNING:tensorflow:From C:\\Users\\ntu96\\AppData\\Local\\Temp\\ipykernel_10936\\688314556.py:52: The name tf.metrics.precision_at_k is deprecated. Please use tf.compat.v1.metrics.precision_at_k instead.\n",
            "\n",
            "WARNING:tensorflow:From c:\\Users\\ntu96\\AppData\\Local\\Programs\\Python\\Python311\\Lib\\site-packages\\tensorflow\\python\\training\\adagrad.py:138: calling Constant.__init__ (from tensorflow.python.ops.init_ops) with dtype is deprecated and will be removed in a future version.\n",
            "Instructions for updating:\n",
            "Call initializer instance with the dtype argument instead of passing it to the constructor\n",
            " iteration 3000: train_loss=10.120445, test_loss=10.383737, test_precision_at_10=0.000024"
          ]
        },
        {
          "data": {
            "text/plain": [
              "({'train_loss': 10.120445, 'test_loss': 10.383737},\n",
              " {'test_precision_at_10': 2.432522492502499e-05})"
            ]
          },
          "execution_count": 44,
          "metadata": {},
          "output_type": "execute_result"
        },
        {
          "data": {
            "image/png": "[encoded data removed]",
            "text/plain": [
              "<Figure size 3000x800 with 2 Axes>"
            ]
          },
          "metadata": {},
          "output_type": "display_data"
        }
      ],
      "source": [
        "# Create feature embedding columns\n",
        "def make_embedding_col(key, embedding_dim):\n",
        "  categorical_col = tf.feature_column.categorical_column_with_vocabulary_list(\n",
        "      key=key, vocabulary_list=list(set(novels[key].values)), num_oov_buckets=0)\n",
        "  return tf.feature_column.embedding_column(\n",
        "      categorical_column=categorical_col, dimension=embedding_dim,\n",
        "      # default initializer: trancated normal with stddev=1/sqrt(dimension)\n",
        "      combiner='mean')\n",
        "\n",
        "with tf.Graph().as_default():\n",
        "  softmax_model = build_softmax_model(\n",
        "      rated_novels,\n",
        "      embedding_cols=[\n",
        "          make_embedding_col(\"novel_id\", 35),\n",
        "          make_embedding_col(\"genre\", 3),\n",
        "      ],\n",
        "      hidden_dims=[35])\n",
        "\n",
        "softmax_model.train(\n",
        "    learning_rate=8., num_iterations=3000, optimizer=tf.train.AdagradOptimizer)"
      ]
    },
    {
      "cell_type": "code",
      "execution_count": 111,
      "metadata": {
        "colab": {
          "base_uri": "https://localhost:8080/",
          "height": 527
        },
        "id": "aTvExtk1814D",
        "outputId": "2b195a4c-2366-4782-e5ba-6a9c3ac662f1"
      },
      "outputs": [
        {
          "name": "stdout",
          "output_type": "stream",
          "text": [
            "Nearest neighbors of : SSS-Rank Mechanic Player.\n",
            "  novel_id  dot score                  titles            genres\n",
            "8        9      0.411  Permanent Martial Arts  Fantasy-Xuanhuan\n"
          ]
        },
        {
          "data": {
            "text/html": [
              "<div>\n",
              "<style scoped>\n",
              "    .dataframe tbody tr th:only-of-type {\n",
              "        vertical-align: middle;\n",
              "    }\n",
              "\n",
              "    .dataframe tbody tr th {\n",
              "        vertical-align: top;\n",
              "    }\n",
              "\n",
              "    .dataframe thead th {\n",
              "        text-align: right;\n",
              "    }\n",
              "</style>\n",
              "<table border=\"1\" class=\"dataframe\">\n",
              "  <thead>\n",
              "    <tr style=\"text-align: right;\">\n",
              "      <th></th>\n",
              "      <th>novel_id</th>\n",
              "      <th>dot score</th>\n",
              "      <th>titles</th>\n",
              "      <th>genres</th>\n",
              "    </tr>\n",
              "  </thead>\n",
              "  <tbody>\n",
              "    <tr>\n",
              "      <th>15113</th>\n",
              "      <td>15114</td>\n",
              "      <td>1.848</td>\n",
              "      <td>SSS-Rank Mechanic Player</td>\n",
              "      <td>Korean</td>\n",
              "    </tr>\n",
              "    <tr>\n",
              "      <th>15086</th>\n",
              "      <td>15087</td>\n",
              "      <td>1.653</td>\n",
              "      <td>Brother Dao Committed Evil Again</td>\n",
              "      <td>Action-Fantasy-Seinen-Xianxia</td>\n",
              "    </tr>\n",
              "    <tr>\n",
              "      <th>17432</th>\n",
              "      <td>17433</td>\n",
              "      <td>1.539</td>\n",
              "      <td>Zongwu: Well versed in ancient and modern time...</td>\n",
              "      <td>Fan-Fiction-Faloo</td>\n",
              "    </tr>\n",
              "    <tr>\n",
              "      <th>17641</th>\n",
              "      <td>17642</td>\n",
              "      <td>1.535</td>\n",
              "      <td>Pirate God Class Shipbuilder</td>\n",
              "      <td>Fan-Fiction-Faloo</td>\n",
              "    </tr>\n",
              "    <tr>\n",
              "      <th>6795</th>\n",
              "      <td>6796</td>\n",
              "      <td>1.534</td>\n",
              "      <td>The Cause and Effect of Liao Zhai</td>\n",
              "      <td>Action-Adventure-Fantasy-Martial Arts-Xianxia</td>\n",
              "    </tr>\n",
              "    <tr>\n",
              "      <th>...</th>\n",
              "      <td>...</td>\n",
              "      <td>...</td>\n",
              "      <td>...</td>\n",
              "      <td>...</td>\n",
              "    </tr>\n",
              "    <tr>\n",
              "      <th>23857</th>\n",
              "      <td>23858</td>\n",
              "      <td>1.376</td>\n",
              "      <td>The Rebirth of an Ill-Fated Consort</td>\n",
              "      <td>Drama-Historical-Josei-Romance</td>\n",
              "    </tr>\n",
              "    <tr>\n",
              "      <th>13602</th>\n",
              "      <td>13603</td>\n",
              "      <td>1.376</td>\n",
              "      <td>Da Qin Raising Country People</td>\n",
              "      <td>Fantasy-Urban</td>\n",
              "    </tr>\n",
              "    <tr>\n",
              "      <th>28100</th>\n",
              "      <td>28101</td>\n",
              "      <td>1.373</td>\n",
              "      <td>Debt Collection</td>\n",
              "      <td>Romance</td>\n",
              "    </tr>\n",
              "    <tr>\n",
              "      <th>27984</th>\n",
              "      <td>27985</td>\n",
              "      <td>1.373</td>\n",
              "      <td>Black &amp; White</td>\n",
              "      <td>Drama-Romance</td>\n",
              "    </tr>\n",
              "    <tr>\n",
              "      <th>11669</th>\n",
              "      <td>11670</td>\n",
              "      <td>1.373</td>\n",
              "      <td>Comprehensive comic: Get the Treasure of the I...</td>\n",
              "      <td>Fan-Fiction-Faloo</td>\n",
              "    </tr>\n",
              "  </tbody>\n",
              "</table>\n",
              "<p>100 rows × 4 columns</p>\n",
              "</div>"
            ],
            "text/plain": [
              "      novel_id  dot score                                             titles  \\\n",
              "15113    15114      1.848                           SSS-Rank Mechanic Player   \n",
              "15086    15087      1.653                   Brother Dao Committed Evil Again   \n",
              "17432    17433      1.539  Zongwu: Well versed in ancient and modern time...   \n",
              "17641    17642      1.535                       Pirate God Class Shipbuilder   \n",
              "6795      6796      1.534                  The Cause and Effect of Liao Zhai   \n",
              "...        ...        ...                                                ...   \n",
              "23857    23858      1.376                The Rebirth of an Ill-Fated Consort   \n",
              "13602    13603      1.376                      Da Qin Raising Country People   \n",
              "28100    28101      1.373                                    Debt Collection   \n",
              "27984    27985      1.373                                      Black & White   \n",
              "11669    11670      1.373  Comprehensive comic: Get the Treasure of the I...   \n",
              "\n",
              "                                              genres  \n",
              "15113                                         Korean  \n",
              "15086                  Action-Fantasy-Seinen-Xianxia  \n",
              "17432                              Fan-Fiction-Faloo  \n",
              "17641                              Fan-Fiction-Faloo  \n",
              "6795   Action-Adventure-Fantasy-Martial Arts-Xianxia  \n",
              "...                                              ...  \n",
              "23857                 Drama-Historical-Josei-Romance  \n",
              "13602                                  Fantasy-Urban  \n",
              "28100                                        Romance  \n",
              "27984                                  Drama-Romance  \n",
              "11669                              Fan-Fiction-Faloo  \n",
              "\n",
              "[100 rows x 4 columns]"
            ]
          },
          "metadata": {},
          "output_type": "display_data"
        }
      ],
      "source": [
        "novel_neighbors(softmax_model, \"SSS-Rank Mechanic Player\", DOT, 100)"
      ]
    },
    {
      "cell_type": "code",
      "execution_count": null,
      "metadata": {},
      "outputs": [],
      "source": []
    }
  ],
  "metadata": {
    "colab": {
      "collapsed_sections": [
        "ZwKXq5ypnucm",
        "DqxfOZkK1ToU",
        "vxG9qeLPrAyJ",
        "eifa-J9Hr314",
        "d9AeRtOus0iq",
        "FSnDJ22w3mIj",
        "pGcmbzfF4ryV",
        "0Wv2bAxl6vFH"
      ],
      "name": "Recommendation_system_DNN.ipynb",
      "provenance": []
    },
    "environment": {
      "kernel": "python3",
      "name": "tf-gpu.1-15.m87",
      "type": "gcloud",
      "uri": "gcr.io/deeplearning-platform-release/tf-gpu.1-15:m87"
    },
    "kernelspec": {
      "display_name": "Python 3",
      "language": "python",
      "name": "python3"
    },
    "language_info": {
      "codemirror_mode": {
        "name": "ipython",
        "version": 3
      },
      "file_extension": ".py",
      "mimetype": "text/x-python",
      "name": "python",
      "nbconvert_exporter": "python",
      "pygments_lexer": "ipython3",
      "version": "3.11.5"
    }
  },
  "nbformat": 4,
  "nbformat_minor": 0
}
